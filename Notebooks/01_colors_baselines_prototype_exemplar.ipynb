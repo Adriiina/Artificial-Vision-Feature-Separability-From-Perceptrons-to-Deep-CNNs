{
 "cells": [
  {
   "cell_type": "markdown",
   "id": "bb538919",
   "metadata": {},
   "source": [
    "# Artificial Vision & Feature Separability — 01 · Colors: Baselines, Prototype & Exemplar Models\n",
    "\n",
    "**Goal.** Build color-category classifiers and compare **logistic regression (baseline)**, **prototype (centroid)**, and **exemplar** models.  \n",
    "**Outputs.** Decision plots, confusion matrices, and a short takeaway summary.  \n",
    "**Data.** Use either a CSV of color samples with labels (recommended) or generate a synthetic color set."
   ]
  },
  {
   "cell_type": "code",
   "execution_count": null,
   "id": "a3ffc7cd",
   "metadata": {},
   "outputs": [],
   "source": [
    "# --- Reproducibility & Environment ---\n",
    "import os, random\n",
    "import numpy as np\n",
    "\n",
    "SEED = 42\n",
    "random.seed(SEED)\n",
    "np.random.seed(SEED)\n",
    "\n",
    "os.makedirs(\"results\", exist_ok=True)\n",
    "os.makedirs(\"data\", exist_ok=True)\n",
    "\n",
    "print(\"Seed set to\", SEED)"
   ]
  },
  {
   "cell_type": "code",
   "execution_count": null,
   "id": "c15d9a15",
   "metadata": {},
   "outputs": [],
   "source": [
    "# --- Imports ---\n",
    "import numpy as np\n",
    "import pandas as pd\n",
    "import matplotlib.pyplot as plt\n",
    "from pathlib import Path\n",
    "\n",
    "from sklearn.model_selection import train_test_split\n",
    "from sklearn.preprocessing import StandardScaler\n",
    "from sklearn.linear_model import LogisticRegression\n",
    "from sklearn.metrics import confusion_matrix, classification_report, accuracy_score\n",
    "from sklearn.neighbors import KNeighborsClassifier"
   ]
  },
  {
   "cell_type": "markdown",
   "id": "5e27f189",
   "metadata": {},
   "source": [
    "## 1. Data\n",
    "You can **(A)** place a CSV at `data/colors.csv` with columns like `R,G,B,label` (0–255) or `L,a,b,label`, **or (B)** generate a toy dataset below.\n",
    "\n",
    "**Expected CSV schema (example):**\n",
    "```\n",
    "R,G,B,label\n",
    "255,0,0,red\n",
    "0,255,0,green\n",
    "0,0,255,blue\n",
    "...\n",
    "```"
   ]
  },
  {
   "cell_type": "code",
   "execution_count": null,
   "id": "a720ab2f",
   "metadata": {},
   "outputs": [],
   "source": [
    "# Option A: Load your CSV (uncomment when you have a file)\n",
    "# csv_path = Path(\"data/colors.csv\")\n",
    "# assert csv_path.exists(), \"Place your color dataset at data/colors.csv\"\n",
    "# df = pd.read_csv(csv_path)\n",
    "\n",
    "# Option B: Generate toy RGB color dataset (3 classes around canonical colors)\n",
    "def make_toy_colors(n_per_class=200, noise=30, seed=SEED):\n",
    "    rng = np.random.default_rng(seed)\n",
    "    centers = {\n",
    "        \"red\":   np.array([220, 40, 40]),\n",
    "        \"green\": np.array([40, 220, 40]),\n",
    "        \"blue\":  np.array([40, 40, 220]),\n",
    "    }\n",
    "    X_list, y_list = [], []\n",
    "    for label, c in centers.items():\n",
    "        Xc = rng.normal(c, noise, size=(n_per_class, 3)).clip(0,255)\n",
    "        X_list.append(Xc)\n",
    "        y_list += [label]*n_per_class\n",
    "    X = np.vstack(X_list).astype(np.float32)\n",
    "    y = np.array(y_list)\n",
    "    return pd.DataFrame({\"R\":X[:,0], \"G\":X[:,1], \"B\":X[:,2], \"label\":y})\n",
    "\n",
    "df = make_toy_colors()\n",
    "df.head()"
   ]
  },
  {
   "cell_type": "markdown",
   "id": "d6fbd48d",
   "metadata": {},
   "source": [
    "## 2. Train / Test Split & Scaling\n",
    "We split the data, then standardize features for classifier training."
   ]
  },
  {
   "cell_type": "code",
   "execution_count": null,
   "id": "c790fc09",
   "metadata": {},
   "outputs": [],
   "source": [
    "X = df[[\"R\",\"G\",\"B\"]].values\n",
    "y = df[\"label\"].values\n",
    "\n",
    "X_train, X_test, y_train, y_test = train_test_split(X, y, test_size=0.3, random_state=SEED, stratify=y)\n",
    "\n",
    "scaler = StandardScaler()\n",
    "Xz_train = scaler.fit_transform(X_train)\n",
    "Xz_test  = scaler.transform(X_test)\n",
    "\n",
    "labels = sorted(np.unique(y))\n",
    "labels"
   ]
  },
  {
   "cell_type": "markdown",
   "id": "1ca992d1",
   "metadata": {},
   "source": [
    "## 3. Baseline: Multinomial Logistic Regression"
   ]
  },
  {
   "cell_type": "code",
   "execution_count": null,
   "id": "3359102e",
   "metadata": {},
   "outputs": [],
   "source": [
    "logreg = LogisticRegression(max_iter=500, multi_class=\"multinomial\", random_state=SEED)\n",
    "logreg.fit(Xz_train, y_train)\n",
    "pred_lr = logreg.predict(Xz_test)\n",
    "\n",
    "acc_lr = accuracy_score(y_test, pred_lr)\n",
    "cm_lr = confusion_matrix(y_test, pred_lr, labels=labels)\n",
    "print(f\"Logistic Regression — Test Accuracy: {acc_lr:.3f}\")\n",
    "print(classification_report(y_test, pred_lr))"
   ]
  },
  {
   "cell_type": "code",
   "execution_count": null,
   "id": "46c6df87",
   "metadata": {},
   "outputs": [],
   "source": [
    "plt.figure()\n",
    "plt.imshow(cm_lr, aspect=\"auto\")\n",
    "plt.title(\"Confusion Matrix — Logistic Regression\")\n",
    "plt.xlabel(\"Pred\"); plt.ylabel(\"True\")\n",
    "plt.xticks(range(len(labels)), labels, rotation=45)\n",
    "plt.yticks(range(len(labels)), labels)\n",
    "plt.colorbar(); plt.tight_layout()\n",
    "plt.savefig(\"results/01_confusion_logreg.png\", dpi=150); plt.show()"
   ]
  },
  {
   "cell_type": "markdown",
   "id": "5db0260e",
   "metadata": {},
   "source": [
    "## 4. Prototype Classifier (Centroid in Feature Space)\n",
    "Compute per-class centroids in **standardized** space and classify by nearest centroid (Euclidean)."
   ]
  },
  {
   "cell_type": "code",
   "execution_count": null,
   "id": "c047a57a",
   "metadata": {},
   "outputs": [],
   "source": [
    "# Compute centroids\n",
    "centroids = {lab: Xz_train[y_train==lab].mean(axis=0) for lab in labels}\n",
    "\n",
    "def proto_predict(Xz):\n",
    "    # nearest centroid classifier\n",
    "    preds = []\n",
    "    for row in Xz:\n",
    "        d2 = {lab: np.linalg.norm(row - mu) for lab, mu in centroids.items()}\n",
    "        preds.append(min(d2, key=d2.get))\n",
    "    return np.array(preds)\n",
    "\n",
    "pred_proto = proto_predict(Xz_test)\n",
    "acc_proto = accuracy_score(y_test, pred_proto)\n",
    "cm_proto = confusion_matrix(y_test, pred_proto, labels=labels)\n",
    "print(f\"Prototype — Test Accuracy: {acc_proto:.3f}\")\n",
    "print(classification_report(y_test, pred_proto))\n",
    "\n",
    "plt.figure()\n",
    "plt.imshow(cm_proto, aspect=\"auto\")\n",
    "plt.title(\"Confusion Matrix — Prototype\")\n",
    "plt.xlabel(\"Pred\"); plt.ylabel(\"True\")\n",
    "plt.xticks(range(len(labels)), labels, rotation=45)\n",
    "plt.yticks(range(len(labels)), labels)\n",
    "plt.colorbar(); plt.tight_layout()\n",
    "plt.savefig(\"results/01_confusion_prototype.png\", dpi=150); plt.show()"
   ]
  },
  {
   "cell_type": "markdown",
   "id": "3435f7fc",
   "metadata": {},
   "source": [
    "## 5. Exemplar Models\n",
    "Two common options:\n",
    "- **k-NN (uniform weights)**: class vote among nearest neighbors.  \n",
    "- **GCM-style similarity**: similarity decays with distance; class score is sum of similarities of exemplars."
   ]
  },
  {
   "cell_type": "code",
   "execution_count": null,
   "id": "56b5346c",
   "metadata": {},
   "outputs": [],
   "source": [
    "# 5a) k-NN exemplar (simple baseline exemplar)\n",
    "knn = KNeighborsClassifier(n_neighbors=5)\n",
    "knn.fit(Xz_train, y_train)\n",
    "pred_knn = knn.predict(Xz_test)\n",
    "\n",
    "acc_knn = accuracy_score(y_test, pred_knn)\n",
    "cm_knn = confusion_matrix(y_test, pred_knn, labels=labels)\n",
    "print(f\"k-NN (k=5) — Test Accuracy: {acc_knn:.3f}\")\n",
    "plt.figure(); plt.imshow(cm_knn, aspect=\"auto\"); plt.title(\"Confusion — kNN (k=5)\")\n",
    "plt.xlabel(\"Pred\"); plt.ylabel(\"True\")\n",
    "plt.xticks(range(len(labels)), labels, rotation=45); plt.yticks(range(len(labels)), labels)\n",
    "plt.colorbar(); plt.tight_layout(); plt.savefig(\"results/01_confusion_knn.png\", dpi=150); plt.show()"
   ]
  },
  {
   "cell_type": "code",
   "execution_count": null,
   "id": "54929e3e",
   "metadata": {},
   "outputs": [],
   "source": [
    "# 5b) GCM-style exemplar: similarity = exp(-c * ||x - exemplar||)\n",
    "def gcm_predict(Xz, Xz_train, y_train, labels, c=2.0):\n",
    "    preds = []\n",
    "    for row in Xz:\n",
    "        scores = {lab: 0.0 for lab in labels}\n",
    "        d = Xz_train - row  # (n_train, n_feat)\n",
    "        dist = np.linalg.norm(d, axis=1) # Euclidean; could swap in Mahalanobis\n",
    "        sim = np.exp(-c * dist)          # exponential decay\n",
    "        for s, lab in zip(sim, y_train):\n",
    "            scores[lab] += s\n",
    "        preds.append(max(scores, key=scores.get))\n",
    "    return np.array(preds)\n",
    "\n",
    "pred_gcm = gcm_predict(Xz_test, Xz_train, y_train, labels, c=2.0)\n",
    "acc_gcm = accuracy_score(y_test, pred_gcm)\n",
    "cm_gcm = confusion_matrix(y_test, pred_gcm, labels=labels)\n",
    "print(f\"GCM (c=2.0) — Test Accuracy: {acc_gcm:.3f}\")\n",
    "plt.figure(); plt.imshow(cm_gcm, aspect=\"auto\"); plt.title(\"Confusion — GCM (c=2.0)\")\n",
    "plt.xlabel(\"Pred\"); plt.ylabel(\"True\")\n",
    "plt.xticks(range(len(labels)), labels, rotation=45); plt.yticks(range(len(labels)), labels)\n",
    "plt.colorbar(); plt.tight_layout(); plt.savefig(\"results/01_confusion_gcm.png\", dpi=150); plt.show()"
   ]
  },
  {
   "cell_type": "markdown",
   "id": "5fd3d650",
   "metadata": {},
   "source": [
    "## 6. Simple 2D Decision Illustration (optional)\n",
    "Project to 2D with PCA for visualization and plot decision contours for **logistic** and **k-NN**."
   ]
  },
  {
   "cell_type": "code",
   "execution_count": null,
   "id": "3c36d9bc",
   "metadata": {},
   "outputs": [],
   "source": [
    "from sklearn.decomposition import PCA\n",
    "p2 = PCA(n_components=2, random_state=SEED)\n",
    "Z_train_2d = p2.fit_transform(Xz_train)\n",
    "Z_test_2d  = p2.transform(Xz_test)\n",
    "\n",
    "# Fit on 2D to draw boundaries\n",
    "log2d = LogisticRegression(max_iter=500, multi_class=\"multinomial\", random_state=SEED).fit(Z_train_2d, y_train)\n",
    "knn2d = KNeighborsClassifier(n_neighbors=5).fit(Z_train_2d, y_train)\n",
    "\n",
    "# grid\n",
    "xmin, ymin = Z_train_2d.min(axis=0) - 1\n",
    "xmax, ymax = Z_train_2d.max(axis=0) + 1\n",
    "xx, yy = np.meshgrid(np.linspace(xmin, xmax, 200), np.linspace(ymin, ymax, 200))\n",
    "grid = np.c_[xx.ravel(), yy.ravel()]\n",
    "\n",
    "pred_log = log2d.predict(grid).reshape(xx.shape)\n",
    "pred_knn = knn2d.predict(grid).reshape(xx.shape)\n",
    "\n",
    "def label_to_int(arr, labels):\n",
    "    mapping = {lab:i for i,lab in enumerate(labels)}\n",
    "    return np.vectorize(mapping.get)(arr)\n",
    "\n",
    "plt.figure()\n",
    "plt.contourf(xx, yy, label_to_int(pred_log, labels), alpha=0.3)\n",
    "plt.scatter(Z_train_2d[:,0], Z_train_2d[:,1], c=label_to_int(y_train, labels), s=10, edgecolor='k', linewidth=0.2)\n",
    "plt.title(\"Decision Boundary — Logistic (2D PCA)\")\n",
    "plt.tight_layout(); plt.savefig(\"results/01_boundary_logistic_2d.png\", dpi=150); plt.show()\n",
    "\n",
    "plt.figure()\n",
    "plt.contourf(xx, yy, label_to_int(pred_knn, labels), alpha=0.3)\n",
    "plt.scatter(Z_train_2d[:,0], Z_train_2d[:,1], c=label_to_int(y_train, labels), s=10, edgecolor='k', linewidth=0.2)\n",
    "plt.title(\"Decision Boundary — k-NN (2D PCA)\")\n",
    "plt.tight_layout(); plt.savefig(\"results/01_boundary_knn_2d.png\", dpi=150); plt.show()"
   ]
  },
  {
   "cell_type": "markdown",
   "id": "c728c88e",
   "metadata": {},
   "source": [
    "## 7. Takeaways\n",
    "- Logistic regression sets a strong linear baseline in standardized RGB space.\n",
    "- Prototype classifiers are simple and surprisingly competitive when classes are compact.\n",
    "- Exemplar approaches (k-NN, GCM) capture fine-grained category structure.\n",
    "- These tools frame the move from color categories to higher-dimensional vision tasks."
   ]
  }
 ],
 "metadata": {},
 "nbformat": 4,
 "nbformat_minor": 5
}
