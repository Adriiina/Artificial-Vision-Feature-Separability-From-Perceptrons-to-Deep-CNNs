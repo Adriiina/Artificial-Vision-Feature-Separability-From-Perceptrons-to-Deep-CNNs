{
 "cells": [
  {
   "cell_type": "markdown",
   "id": "aaefc4d2",
   "metadata": {},
   "source": [
    "# Artificial Vision & Feature Separability — 04 · MNIST Logistic Regression Baseline\n",
    "\n",
    "**Goal.** Establish a strong linear baseline on MNIST digits with **multinomial logistic regression**, including **regularization tuning**, **calibration**, and **error analysis**.  \n",
    "**Outputs.** Confusion matrix, log-loss, ROC-AUC (OvR), calibration plot, and misclassified examples.  \n",
    "**Data.** Loaded via `torchvision.datasets.MNIST` (offline-capable if pre-downloaded under `./data`)."
   ]
  },
  {
   "cell_type": "code",
   "execution_count": null,
   "id": "6657554a",
   "metadata": {},
   "outputs": [],
   "source": [
    "# --- Reproducibility & Environment (with SSL fix) ---\n",
    "import os, random, numpy as np, certifi\n",
    "\n",
    "SEED = 42\n",
    "random.seed(SEED)\n",
    "np.random.seed(SEED)\n",
    "\n",
    "os.makedirs(\"results\", exist_ok=True)\n",
    "os.makedirs(\"data\", exist_ok=True)\n",
    "\n",
    "# SSL fix so dataset downloads don't fail on some systems\n",
    "os.environ[\"SSL_CERT_FILE\"] = certifi.where()\n",
    "print(\"SSL_CERT_FILE set to:\", os.environ[\"SSL_CERT_FILE\"])\n",
    "\n",
    "print(\"Seed set to\", SEED)"
   ]
  },
  {
   "cell_type": "code",
   "execution_count": null,
   "id": "2b03127e",
   "metadata": {},
   "outputs": [],
   "source": [
    "# --- Imports ---\n",
    "import numpy as np\n",
    "import matplotlib.pyplot as plt\n",
    "import pandas as pd\n",
    "\n",
    "import torch\n",
    "import torchvision\n",
    "from torchvision import transforms\n",
    "\n",
    "from sklearn.model_selection import StratifiedKFold, GridSearchCV\n",
    "from sklearn.preprocessing import StandardScaler\n",
    "from sklearn.linear_model import LogisticRegression\n",
    "from sklearn.metrics import (\n",
    "    confusion_matrix, classification_report, accuracy_score, log_loss, roc_auc_score\n",
    ")\n",
    "from sklearn.calibration import calibration_curve"
   ]
  },
  {
   "cell_type": "markdown",
   "id": "29cf8115",
   "metadata": {},
   "source": [
    "## 1. Data — MNIST (28×28 grayscale)\n",
    "We load the standard MNIST training and test splits. We flatten to 784-d vectors for linear models and scale features."
   ]
  },
  {
   "cell_type": "code",
   "execution_count": null,
   "id": "469757ce",
   "metadata": {},
   "outputs": [],
   "source": [
    "transform = transforms.Compose([transforms.ToTensor()])\n",
    "trainset = torchvision.datasets.MNIST(root=\"./data\", train=True, download=True, transform=transform)\n",
    "testset  = torchvision.datasets.MNIST(root=\"./data\", train=False, download=True, transform=transform)\n",
    "\n",
    "X_train = np.stack([trainset[i][0].numpy().reshape(-1) for i in range(len(trainset))])\n",
    "y_train = np.array([int(trainset[i][1]) for i in range(len(trainset))])\n",
    "\n",
    "X_test = np.stack([testset[i][0].numpy().reshape(-1) for i in range(len(testset))])\n",
    "y_test = np.array([int(testset[i][1]) for i in range(len(testset))])\n",
    "\n",
    "print(\"Train:\", X_train.shape, \" Test:\", X_test.shape)"
   ]
  },
  {
   "cell_type": "markdown",
   "id": "b579a75d",
   "metadata": {},
   "source": [
    "## 2. Standardization"
   ]
  },
  {
   "cell_type": "code",
   "execution_count": null,
   "id": "22b87f2d",
   "metadata": {},
   "outputs": [],
   "source": [
    "scaler = StandardScaler(with_mean=True, with_std=True)\n",
    "Xz_train = scaler.fit_transform(X_train)\n",
    "Xz_test  = scaler.transform(X_test)"
   ]
  },
  {
   "cell_type": "markdown",
   "id": "785a58e9",
   "metadata": {},
   "source": [
    "## 3. Logistic Regression — Regularization Sweep (CV by Log-Loss)"
   ]
  },
  {
   "cell_type": "code",
   "execution_count": null,
   "id": "f732b84c",
   "metadata": {},
   "outputs": [],
   "source": [
    "param_grid = {\"C\": np.logspace(-3, 2, 8), \"solver\": [\"lbfgs\"], \"multi_class\": [\"multinomial\"], \"max_iter\": [200]}\n",
    "base = LogisticRegression(random_state=SEED)\n",
    "cv = StratifiedKFold(n_splits=5, shuffle=True, random_state=SEED)\n",
    "\n",
    "gs = GridSearchCV(base, param_grid, scoring=\"neg_log_loss\", cv=cv, n_jobs=-1, refit=True, verbose=0)\n",
    "gs.fit(Xz_train, y_train)\n",
    "\n",
    "best_lr = gs.best_estimator_\n",
    "print(\"Best params:\", gs.best_params_)\n",
    "print(\"Best CV log-loss:\", -gs.best_score_)\n",
    "\n",
    "pred_test = best_lr.predict(Xz_test)\n",
    "proba_test = best_lr.predict_proba(Xz_test)\n",
    "\n",
    "acc = accuracy_score(y_test, pred_test)\n",
    "ll  = log_loss(y_test, proba_test, labels=list(range(10)))\n",
    "cm  = confusion_matrix(y_test, pred_test, labels=list(range(10)))\n",
    "print(f\"Test Accuracy: {acc:.4f} | Test Log-loss: {ll:.4f}\")\n",
    "print(classification_report(y_test, pred_test))"
   ]
  },
  {
   "cell_type": "code",
   "execution_count": null,
   "id": "20367f69",
   "metadata": {},
   "outputs": [],
   "source": [
    "plt.figure()\n",
    "plt.imshow(cm, aspect=\"auto\")\n",
    "plt.title(\"MNIST — Confusion Matrix (Logistic)\")\n",
    "plt.xlabel(\"Pred\"); plt.ylabel(\"True\")\n",
    "plt.xticks(range(10)); plt.yticks(range(10))\n",
    "plt.colorbar(); plt.tight_layout(); plt.savefig(\"results/04_confusion_logreg_mnist.png\", dpi=150); plt.show()"
   ]
  },
  {
   "cell_type": "markdown",
   "id": "7a9b2680",
   "metadata": {},
   "source": [
    "## 4. ROC-AUC (One-vs-Rest macro)"
   ]
  },
  {
   "cell_type": "code",
   "execution_count": null,
   "id": "64a76109",
   "metadata": {},
   "outputs": [],
   "source": [
    "auc = roc_auc_score(y_test, proba_test, multi_class=\"ovr\", labels=list(range(10)))\n",
    "print(f\"ROC-AUC (OvR, macro): {auc:.4f}\")"
   ]
  },
  {
   "cell_type": "markdown",
   "id": "b417ed9f",
   "metadata": {},
   "source": [
    "## 5. Calibration Curve"
   ]
  },
  {
   "cell_type": "code",
   "execution_count": null,
   "id": "9dd356c5",
   "metadata": {},
   "outputs": [],
   "source": [
    "cls = 0\n",
    "y_true_bin = (y_test == cls).astype(int)\n",
    "p_cls = proba_test[:, cls]\n",
    "frac_pos, mean_pred = calibration_curve(y_true_bin, p_cls, n_bins=15, strategy=\"uniform\")\n",
    "\n",
    "plt.figure()\n",
    "plt.plot(mean_pred, frac_pos, marker=\"o\")\n",
    "plt.plot([0,1],[0,1], \"--\", alpha=0.5)\n",
    "plt.xlabel(\"Mean predicted probability\")\n",
    "plt.ylabel(\"Fraction of positives\")\n",
    "plt.title(f\"Calibration — class {cls}\")\n",
    "plt.tight_layout(); plt.savefig(\"results/04_calibration_mnist_cls0.png\", dpi=150); plt.show()"
   ]
  },
  {
   "cell_type": "markdown",
   "id": "a5d8580f",
   "metadata": {},
   "source": [
    "## 6. Error Analysis — Most Confused Pairs & Examples"
   ]
  },
  {
   "cell_type": "code",
   "execution_count": null,
   "id": "22da6507",
   "metadata": {},
   "outputs": [],
   "source": [
    "cm_off = cm.copy()\n",
    "np.fill_diagonal(cm_off, 0)\n",
    "i, j = np.unravel_index(np.argmax(cm_off), cm_off.shape)\n",
    "print(f\"Most confused pair: true={i}, pred={j}, count={cm_off[i,j]}\")\n",
    "\n",
    "mis_idx = [k for k in range(len(y_test)) if y_test[k]==i and pred_test[k]==j][:32]\n",
    "\n",
    "import math\n",
    "cols = 8\n",
    "rows = math.ceil(len(mis_idx)/cols) if mis_idx else 1\n",
    "plt.figure(figsize=(cols*1.2, rows*1.2))\n",
    "for idx, k in enumerate(mis_idx):\n",
    "    plt.subplot(rows, cols, idx+1)\n",
    "    plt.imshow(X_test[k].reshape(28,28), cmap=\"gray\")\n",
    "    plt.axis(\"off\")\n",
    "    plt.title(f\"{i}→{j}\", fontsize=8)\n",
    "plt.suptitle(f\"Misclassified {i}→{j}\")\n",
    "plt.tight_layout(); plt.savefig(\"results/04_misclassified_pair_grid.png\", dpi=150); plt.show()"
   ]
  },
  {
   "cell_type": "markdown",
   "id": "ada8a9e3",
   "metadata": {},
   "source": [
    "## 7. Takeaways"
   ]
  },
  {
   "cell_type": "markdown",
   "id": "86e04888",
   "metadata": {},
   "source": [
    "- Multinomial logistic regression provides a **strong linear baseline** on MNIST with proper scaling and regularization.\n",
    "- **Log-loss CV** offers a robust tuning criterion beyond raw accuracy.\n",
    "- Calibration and confusion analysis give insight into **where** linear models struggle — context for CNN gains later."
   ]
  }
 ],
 "metadata": {},
 "nbformat": 4,
 "nbformat_minor": 5
}
